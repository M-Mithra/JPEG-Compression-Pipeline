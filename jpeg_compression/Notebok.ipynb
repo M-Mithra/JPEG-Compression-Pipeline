{
  "nbformat": 4,
  "nbformat_minor": 0,
  "metadata": {
    "colab": {
      "provenance": []
    },
    "kernelspec": {
      "name": "python3",
      "display_name": "Python 3"
    },
    "language_info": {
      "name": "python"
    }
  },
  "cells": [
    {
      "cell_type": "markdown",
      "source": [
        "#JPEG Compression"
      ],
      "metadata": {
        "id": "IdLxsqRpgPtW"
      }
    },
    {
      "cell_type": "markdown",
      "source": [
        "###Import Modules"
      ],
      "metadata": {
        "id": "J8kn7rSkbwDj"
      }
    },
    {
      "cell_type": "code",
      "execution_count": 20,
      "metadata": {
        "id": "56LW31-HbqBb"
      },
      "outputs": [],
      "source": [
        "# Import the required modules\n",
        "import cv2 as cv\n",
        "import matplotlib.pyplot as plt\n",
        "import numpy as np\n",
        "import os"
      ]
    },
    {
      "cell_type": "markdown",
      "source": [
        "###Quantization Matrix"
      ],
      "metadata": {
        "id": "QuDx_9-Wb1j9"
      }
    },
    {
      "cell_type": "code",
      "source": [
        "# Define the quantization matrix\n",
        "quantization_matrix = np.array(\n",
        "    [\n",
        "        [16, 11, 10, 16, 24, 40, 51, 61],\n",
        "        [12, 12, 14, 19, 26, 58, 60, 55],\n",
        "        [14, 13, 16, 24, 40, 57, 69, 56],\n",
        "        [14, 17, 22, 29, 51, 87, 80, 62],\n",
        "        [18, 22, 37, 56, 68, 109, 103, 77],\n",
        "        [24, 35, 55, 64, 81, 104, 113, 92],\n",
        "        [49, 64, 78, 87, 103, 121, 120, 101],\n",
        "        [72, 92, 95, 98, 112, 100, 103, 99],\n",
        "    ],\n",
        "    dtype=np.float32,\n",
        ")\n",
        "quantization_matrix_Y = np.array(\n",
        "    [\n",
        "        [16, 11, 10, 16, 24, 40, 51, 61],\n",
        "        [12, 12, 14, 19, 26, 58, 60, 55],\n",
        "        [14, 13, 16, 24, 40, 57, 69, 56],\n",
        "        [14, 17, 22, 29, 51, 87, 80, 62],\n",
        "        [18, 22, 37, 56, 68, 109, 103, 77],\n",
        "        [24, 35, 55, 64, 81, 104, 113, 92],\n",
        "        [49, 64, 78, 87, 103, 121, 120, 101],\n",
        "        [72, 92, 95, 98, 112, 100, 103, 99],\n",
        "    ],\n",
        "    dtype=np.float32,\n",
        ")\n",
        "\n",
        "quantization_matrix_CrCb = np.array(\n",
        "    [\n",
        "        [17, 18, 24, 47, 99, 99, 99, 99],\n",
        "        [18, 21, 26, 66, 99, 99, 99, 99],\n",
        "        [24, 26, 56, 99, 99, 99, 99, 99],\n",
        "        [47, 66, 99, 99, 99, 99, 99, 99],\n",
        "        [99, 99, 99, 99, 99, 99, 99, 99],\n",
        "        [99, 99, 99, 99, 99, 99, 99, 99],\n",
        "        [99, 99, 99, 99, 99, 99, 99, 99],\n",
        "        [99, 99, 99, 99, 99, 99, 99, 99],\n",
        "    ],\n",
        "    dtype=np.float32,\n",
        ")"
      ],
      "metadata": {
        "id": "EFLhdj4ob6B2"
      },
      "execution_count": 21,
      "outputs": []
    },
    {
      "cell_type": "markdown",
      "source": [
        "###PSNR"
      ],
      "metadata": {
        "id": "2R-eRSKLcQem"
      }
    },
    {
      "cell_type": "markdown",
      "source": [
        "The calculate_psnr function computes the Peak Signal-to-Noise Ratio (PSNR) between two images, img1 and img2, which is a common measure of image quality, especially in compression. It calculates the Mean Squared Error (MSE) by taking the average of the squared differences between corresponding pixels in the two images. Then, it uses the formula for PSNR, where a higher PSNR value indicates better quality (closer match between images). Here, 255 represents the maximum possible pixel intensity for an 8-bit grayscale image."
      ],
      "metadata": {
        "id": "qAiNuLjJh29s"
      }
    },
    {
      "cell_type": "code",
      "source": [
        "def calculate_psnr(img1: np.ndarray, img2: np.ndarray) -> float:\n",
        "    \"\"\"Calculate PSNR using formula: PSNR = 20 * log10(MAX_I) - 10 * log10(MSE)\"\"\"\n",
        "    mse = np.mean((img1 - img2) ** 2)  # Calculate the Mean Squared Error (MSE) between the two images\n",
        "    psnr = 20 * np.log10(255 / np.sqrt(mse))  # Compute PSNR using the maximum pixel intensity (255 for 8-bit images) and MSE\n",
        "    return psnr  # Return the calculated PSNR value"
      ],
      "metadata": {
        "id": "30aLXOxMcc3C"
      },
      "execution_count": 22,
      "outputs": []
    },
    {
      "cell_type": "markdown",
      "source": [
        "###Number of Elements"
      ],
      "metadata": {
        "id": "E1d2MeGZcf9g"
      }
    },
    {
      "cell_type": "markdown",
      "source": [
        "The number_of_elements function calculates the total number of significant (non-zero) elements in a list of 1D arrays representing blocks of a grayscale JPEG-encoded image. It iterates through each block, trims trailing zeros (commonly produced during JPEG compression), and adds the count of elements in each trimmed block to get the final count. This helps capture the actual data stored without excess zeros.\n",
        "\n",
        "The total_number_of_elements function provides a higher-level count of non-zero elements for either grayscale or color images. For color images, it separately counts elements in each channel (e.g., R, G, B) using number_of_elements for each channel's blocks, then sums them. For grayscale images, it simply calls number_of_elements on the entire block list. This function is particularly useful for calculating compression ratios by measuring the effective data size across different image formats."
      ],
      "metadata": {
        "id": "CNTX3QZZhmJ8"
      }
    },
    {
      "cell_type": "code",
      "source": [
        "def number_of_elements(blocks: list[np.ndarray]) -> int:\n",
        "    \"\"\"Calculates the total number of elements in the grayscale JPEG encoded array\"\"\"\n",
        "    total_elements = 0  # Initialize the total element count to zero\n",
        "    for block in blocks:  # Iterate through each block in the list\n",
        "        # Trim the trailing zeros from the 1D array (helps reduce unnecessary zeros in compression)\n",
        "        total_elements += np.trim_zeros(block, \"b\").size  # Add the size of the trimmed array to the total\n",
        "    return total_elements  # Return the final count of total elements\n",
        "\n",
        "def total_number_of_elements(\n",
        "    blocks: list[np.ndarray]\n",
        "    | tuple[\n",
        "        list[np.ndarray],\n",
        "        list[np.ndarray],\n",
        "        list[np.ndarray],\n",
        "    ],\n",
        "    color: bool,\n",
        ") -> int:\n",
        "    \"\"\"\n",
        "    Calculates the total number of elements for both color and grayscale JPEG encoded arrays\n",
        "    This is a utility function that will be used to calculate the compression ratio\n",
        "    \"\"\"\n",
        "    total_elements = 0  # Initialize the total element count to zero\n",
        "    if color:  # If the image is in color (has multiple channels)\n",
        "        # Sum the number of elements across each color channel (e.g., R, G, B)\n",
        "        total_elements = (\n",
        "            number_of_elements(blocks[0])  # Count elements in the first channel\n",
        "            + number_of_elements(blocks[1])  # Count elements in the second channel\n",
        "            + number_of_elements(blocks[2])  # Count elements in the third channel\n",
        "        )\n",
        "    else:  # If the image is grayscale (single channel)\n",
        "        total_elements = number_of_elements(blocks)  # Count elements in the grayscale channel\n",
        "    return total_elements  # Return the final count of total elements"
      ],
      "metadata": {
        "id": "7yVD3w9Ec2j4"
      },
      "execution_count": 23,
      "outputs": []
    },
    {
      "cell_type": "markdown",
      "source": [
        "##ZigZag Scan, Unscan"
      ],
      "metadata": {
        "id": "nmVZmPMYfrgY"
      }
    },
    {
      "cell_type": "markdown",
      "source": [
        "###ZigZag Scan"
      ],
      "metadata": {
        "id": "zbNVtIRGc_b3"
      }
    },
    {
      "cell_type": "markdown",
      "source": [
        "The zigzag_scan function rearranges the elements of a 2D square matrix (block) into a 1D array following a zigzag pattern, commonly used in image compression techniques like JPEG. It does this by extracting the diagonals of the matrix and reversing the order for every alternate diagonal to create the zigzag effect. The result is a 1D array with elements ordered from top-left to bottom-right, optimizing data for subsequent compression."
      ],
      "metadata": {
        "id": "ko-d7T08iLO2"
      }
    },
    {
      "cell_type": "code",
      "source": [
        "def zigzag_scan(block: np.ndarray) -> np.ndarray:\n",
        "    \"\"\"\n",
        "    Scans a block in zigzag order and returns a 1D array.\n",
        "    Each block is assumed to be a square matrix.\n",
        "    \"\"\"\n",
        "    a = 0  # Placeholder variable, likely unused (can be removed if not used elsewhere)\n",
        "    block_size = block.shape[0]  # Determine the size of the square block (assumes block is square)\n",
        "\n",
        "    # Generate a 1D array by scanning diagonals of the block in a zigzag pattern\n",
        "    zigzag_arr = np.concatenate(\n",
        "        [\n",
        "            np.diagonal(block[::-1, :], i)[:: (2 * (i % 2) - 1)]  # Extract diagonals in zigzag order\n",
        "            for i in range(1 - block_size, block_size)  # Iterate over possible diagonals in the block\n",
        "        ]\n",
        "    )\n",
        "    return zigzag_arr  # Return the 1D array of elements in zigzag order"
      ],
      "metadata": {
        "id": "RICTIE1VdL1E"
      },
      "execution_count": 24,
      "outputs": []
    },
    {
      "cell_type": "markdown",
      "source": [
        "###ZigZag Unscan"
      ],
      "metadata": {
        "id": "SOxF4vJ3dN4l"
      }
    },
    {
      "cell_type": "markdown",
      "source": [
        "The zigzag_unscan function reconstructs a 2D square matrix from a 1D array following a zigzag pattern, often reversing the zigzag scan used in compression processes like JPEG. Starting at the top-left, it places each element of the 1D array into the correct (x, y) position in the 2D matrix by adjusting movement direction based on the current coordinate sum (even or odd). This reordering is crucial for reconstructing compressed data into its original 2D block form."
      ],
      "metadata": {
        "id": "TwAOKorDigD7"
      }
    },
    {
      "cell_type": "code",
      "source": [
        "def zigzag_unscan(\n",
        "    zigzag_arr: np.ndarray, block_size: int\n",
        ") -> np.ndarray:\n",
        "    \"\"\"Unscans a 1D array in zigzag order and returns a 2D array.\"\"\"\n",
        "\n",
        "    # Create an empty 2D array to store the unscanned values\n",
        "    block = np.zeros((block_size, block_size), dtype=np.float32)  # Initialize a 2D array of the given block size\n",
        "    x, y = 0, 0  # Initialize coordinates at the top-left corner\n",
        "\n",
        "    for num in zigzag_arr:  # Iterate through each element in the 1D zigzag array\n",
        "        block[x, y] = num  # Place the current element in the (x, y) position of the 2D array\n",
        "\n",
        "        # Determine the direction to move based on the current position\n",
        "        # If the sum of the coordinates is even, move in the \"up-right\" zigzag pattern\n",
        "        if (x + y) % 2 == 0:\n",
        "            # If at the last column, move down one row\n",
        "            if y == block_size - 1:\n",
        "                x += 1\n",
        "            # If at the first row, move right one column\n",
        "            elif x == 0:\n",
        "                y += 1\n",
        "            # Otherwise, move up one row and right one column\n",
        "            else:\n",
        "                x -= 1\n",
        "                y += 1\n",
        "        # If the sum of the coordinates is odd, move in the \"down-left\" zigzag pattern\n",
        "        else:\n",
        "            # If at the last row, move right one column\n",
        "            if x == block_size - 1:\n",
        "                y += 1\n",
        "            # If at the first column, move down one row\n",
        "            elif y == 0:\n",
        "                x += 1\n",
        "            # Otherwise, move down one row and left one column\n",
        "            else:\n",
        "                x += 1\n",
        "                y -= 1\n",
        "\n",
        "    return block  # Return the reconstructed 2D array"
      ],
      "metadata": {
        "id": "yMdhNfqWdQKa"
      },
      "execution_count": 25,
      "outputs": []
    },
    {
      "cell_type": "markdown",
      "source": [
        "##Grayscale JPEG Encoder, Decoder"
      ],
      "metadata": {
        "id": "GWK96RTSflpb"
      }
    },
    {
      "cell_type": "markdown",
      "source": [
        "###Grayscale JPEG Encoder"
      ],
      "metadata": {
        "id": "TWiLG2JxdVV9"
      }
    },
    {
      "cell_type": "markdown",
      "source": [
        "The grayscale_jpeg_encoder function compresses a grayscale image using JPEG-like encoding by processing it in blocks. It first pads the image to make the dimensions divisible by the block size, then subtracts 128 from the pixel values to shift the image to a zero-centered color space. The image is divided into non-overlapping blocks, and a Discrete Cosine Transform (DCT) is applied to each block to transform the data into frequency space. The quantization matrix is resized to match the block size, and each DCT coefficient is quantized by dividing it by the resized matrix. After quantization, the function performs zigzag scanning on each block to generate a 1D array of coefficients. Finally, the first num_coefficients coefficients are retained for each block and returned as the JPEG-encoded array."
      ],
      "metadata": {
        "id": "ybV6yVMUiz1T"
      }
    },
    {
      "cell_type": "code",
      "source": [
        "def grayscale_jpeg_encoder(\n",
        "    img: np.ndarray, block_size: int, num_coefficients: int, quantization_matrix\n",
        ") -> list[np.ndarray]:\n",
        "    \"\"\"\n",
        "    Encodes a grayscale image using JPEG compression.\n",
        "    Returns a list of 1D arrays containing the first `num_coefficients`\n",
        "    coefficients after performing zigzag scanning on each quantized block.\n",
        "    This is the JPEG encoded array.\n",
        "    \"\"\"\n",
        "\n",
        "    # Pad the image to make its height and width divisible by the block size\n",
        "    height, width = img.shape  # Get the height and width of the input image\n",
        "    padded_height = height + (block_size - height % block_size) % block_size  # Calculate padded height\n",
        "    padded_width = width + (block_size - width % block_size) % block_size  # Calculate padded width\n",
        "    padded_img = np.zeros((padded_height, padded_width), dtype=np.uint8)  # Initialize padded image with zeros\n",
        "    padded_img[:height, :width] = img  # Copy the original image into the padded image\n",
        "\n",
        "    # Subtract 128 from the image to center pixel values around zero (JPEG color space adjustment)\n",
        "    padded_img = padded_img.astype(np.float32) - 128  # Convert to float32 and subtract 128 for DC shift\n",
        "\n",
        "    # Split the image into non-overlapping blocks of the given block size\n",
        "    blocks = [\n",
        "        padded_img[i : i + block_size, j : j + block_size]\n",
        "        for i in range(0, padded_height, block_size)\n",
        "        for j in range(0, padded_width, block_size)\n",
        "    ]  # Generate blocks of the image for DCT processing\n",
        "\n",
        "    # Apply the Discrete Cosine Transform (DCT) to each block to transform to frequency domain\n",
        "    dct_blocks = [cv.dct(block) for block in blocks]  # DCT transformation for each block\n",
        "\n",
        "    # Resize the quantization matrix to match the block size for consistency\n",
        "    resized_quantization_matrix = cv.resize(\n",
        "        quantization_matrix, (block_size, block_size), cv.INTER_CUBIC\n",
        "    )  # Resize quantization matrix using cubic interpolation\n",
        "\n",
        "    # Quantize each DCT coefficient by dividing each DCT value by the resized quantization matrix\n",
        "    quantized_blocks = [\n",
        "        np.round(block / resized_quantization_matrix).astype(np.int32)\n",
        "        for block in dct_blocks\n",
        "    ]  # Quantize each block by rounding the coefficients\n",
        "\n",
        "    # Perform zigzag scanning on each quantized block to create a 1D array\n",
        "    zigzag_scanned_blocks = [zigzag_scan(block) for block in quantized_blocks]  # Apply zigzag scan\n",
        "\n",
        "    # Retain only the first `num_coefficients` coefficients in each zigzag-scanned block\n",
        "    first_num_coefficients = [\n",
        "        block[:num_coefficients] for block in zigzag_scanned_blocks\n",
        "    ]  # Retain the specified number of coefficients\n",
        "\n",
        "    return first_num_coefficients  # Return the list of quantized and zigzag-scanned coefficients"
      ],
      "metadata": {
        "id": "sNpXcm3bda2B"
      },
      "execution_count": 26,
      "outputs": []
    },
    {
      "cell_type": "markdown",
      "source": [
        "###Grayscale JPEG Decoder"
      ],
      "metadata": {
        "id": "8z_2WDoVdhB1"
      }
    },
    {
      "cell_type": "markdown",
      "source": [
        "The grayscale_jpeg_decoder function reverses the JPEG-like compression applied to a grayscale image. It begins by padding the image dimensions to align with the block size. It then resizes the quantization matrix to match the block size and reverses the zigzag scanning applied during encoding to obtain the quantized blocks. After dequantizing each block by multiplying with the resized quantization matrix, the function applies the Inverse Discrete Cosine Transform (IDCT) to each block to revert the frequency domain data to spatial data. The IDCT blocks are placed in their respective positions to reconstruct the padded image. The DC shift introduced during encoding is corrected by adding 128 to each pixel value, and the pixel values are clipped to ensure they remain within the valid range. Finally, the image is cropped back to its original size and returned as a uint8 array, ready for display or further processing."
      ],
      "metadata": {
        "id": "Sz-C_K5bjCrC"
      }
    },
    {
      "cell_type": "code",
      "source": [
        "def grayscale_jpeg_decoder(\n",
        "    blocks: list[np.ndarray], img: np.ndarray, block_size: int, quantization_matrix\n",
        ") -> np.ndarray:\n",
        "    \"\"\"\n",
        "    Decodes a grayscale image using JPEG compression from the JPEG encoded array.\n",
        "    Returns a 2D array containing the compressed image.\n",
        "    \"\"\"\n",
        "\n",
        "    # Calculate the padded height and width of the image to handle non-multiple dimensions\n",
        "    height, width = img.shape  # Get the height and width of the input image\n",
        "    padded_height = height + (block_size - height % block_size) % block_size  # Calculate padded height\n",
        "    padded_width = width + (block_size - width % block_size) % block_size  # Calculate padded width\n",
        "\n",
        "    # Resize the quantization matrix to match the block size for consistency\n",
        "    resized_quantization_matrix = cv.resize(\n",
        "        quantization_matrix, (block_size, block_size), cv.INTER_CUBIC\n",
        "    )  # Resize the quantization matrix using cubic interpolation to match block size\n",
        "\n",
        "    # Unscan the zigzag-scanned blocks to recover the quantized DCT blocks\n",
        "    zigzag_unscanned_blocks = [zigzag_unscan(block, block_size) for block in blocks]  # Reverse zigzag scanning\n",
        "\n",
        "    # Dequantize the blocks by multiplying each by the resized quantization matrix\n",
        "    dequantized_blocks = [\n",
        "        block * resized_quantization_matrix for block in zigzag_unscanned_blocks\n",
        "    ]  # Dequantize by element-wise multiplication with the quantization matrix\n",
        "\n",
        "    # Apply the Inverse Discrete Cosine Transform (IDCT) to each dequantized block to recover spatial domain data\n",
        "    idct_blocks = [cv.idct(block) for block in dequantized_blocks]  # Perform IDCT on each block\n",
        "\n",
        "    # Reconstruct the compressed image from the IDCT blocks by placing them back in the original positions\n",
        "    compressed_img = np.zeros((padded_height, padded_width), dtype=np.float32)  # Initialize the padded image array\n",
        "    block_index = 0  # Index to track the current block\n",
        "    for i in range(0, padded_height, block_size):  # Loop through rows\n",
        "        for j in range(0, padded_width, block_size):  # Loop through columns\n",
        "            compressed_img[i : i + block_size, j : j + block_size] = idct_blocks[\n",
        "                block_index\n",
        "            ]  # Place the IDCT block in the corresponding position\n",
        "            block_index += 1  # Increment the block index\n",
        "\n",
        "    # Add 128 to shift pixel values back to the original range\n",
        "    compressed_img += 128  # Add 128 to reverse the DC shift from encoding\n",
        "\n",
        "    # Clip the values to ensure they stay within the valid pixel range (0-255)\n",
        "    compressed_img = np.clip(compressed_img, 0, 255)  # Clip pixel values to the range [0, 255]\n",
        "\n",
        "    # Crop the image back to its original size and convert to uint8 for image format\n",
        "    return compressed_img[:height, :width].astype(np.uint8)  # Return the cropped and properly formatted image"
      ],
      "metadata": {
        "id": "7oZUjXb9dmy4"
      },
      "execution_count": 27,
      "outputs": []
    },
    {
      "cell_type": "markdown",
      "source": [
        "##Color JPEG Encoder, Decoder"
      ],
      "metadata": {
        "id": "mt7KQq00fhOE"
      }
    },
    {
      "cell_type": "markdown",
      "source": [
        "###Color JPEG Encoder"
      ],
      "metadata": {
        "id": "8z8VonKjdnpS"
      }
    },
    {
      "cell_type": "markdown",
      "source": [
        "The color_jpeg_encoder function performs JPEG compression for a color image in the YCbCr color space. It first converts the input BGR image into the YCbCr color space, which separates the luminance (Y) component from the chrominance (Cb, Cr) components. Then, the image is split into the individual Y, Cb, and Cr channels. Each channel is processed separately using the grayscale_jpeg_encoder function to apply JPEG compression. The function returns a tuple containing three lists: the first list corresponds to the Y channel (luminance), and the other two lists correspond to the Cb and Cr channels (chrominance). These lists contain 1D arrays representing the first num_coefficients after zigzag scanning and quantization, which is the JPEG encoded data for each channel."
      ],
      "metadata": {
        "id": "AFhy4j-JjUUf"
      }
    },
    {
      "cell_type": "code",
      "source": [
        "def color_jpeg_encoder(\n",
        "    img: np.ndarray, block_size: int, num_coefficients: int\n",
        ") -> tuple[\n",
        "    list[np.ndarray], list[np.ndarray], list[np.ndarray]\n",
        "]:\n",
        "    \"\"\"\n",
        "    Encodes a color image using JPEG compression in YCbCr color space.\n",
        "    Returns a tuple of 3 lists, each containing\n",
        "    1D arrays containing the first `num_coefficients`\n",
        "    coefficients after performing zigzag scanning on each quantized block.\n",
        "    This is the JPEG encoded array.\n",
        "    The three lists correspond to the Y, Cb, and Cr channels respectively.\n",
        "    \"\"\"\n",
        "\n",
        "    # Convert the image to YCbCr color space, which separates luminance (Y) and chrominance (Cb, Cr)\n",
        "    ycbcr_image = cv.cvtColor(img, cv.COLOR_BGR2YCrCb)  # Convert BGR image to YCbCr color space\n",
        "\n",
        "    # Split the YCbCr image into separate Y, Cb, and Cr channels\n",
        "    y_channel, cb_channel, cr_channel = cv.split(ycbcr_image)  # Split the YCbCr image into Y, Cb, Cr\n",
        "\n",
        "    # Encode each channel using grayscale_jpeg_encoder\n",
        "    # Each channel is encoded separately using the grayscale JPEG encoder function\n",
        "    return (\n",
        "        grayscale_jpeg_encoder(y_channel, block_size, num_coefficients, quantization_matrix_Y),  # Encode Y channel\n",
        "        grayscale_jpeg_encoder(cb_channel, block_size, num_coefficients, quantization_matrix_CrCb),  # Encode Cb channel\n",
        "        grayscale_jpeg_encoder(cr_channel, block_size, num_coefficients, quantization_matrix_CrCb),  # Encode Cr channel\n",
        "    )"
      ],
      "metadata": {
        "id": "FfZTVNmQdr46"
      },
      "execution_count": 28,
      "outputs": []
    },
    {
      "cell_type": "markdown",
      "source": [
        "###Color JPEG Decoder"
      ],
      "metadata": {
        "id": "yy8Bg_MUeN7D"
      }
    },
    {
      "cell_type": "markdown",
      "source": [
        "The color_jpeg_decoder function decodes a JPEG-encoded color image that has been compressed in the YCbCr color space. The process begins by converting the input BGR image to the YCbCr color space. The image is then split into three separate channels: Y (luminance), Cb (chrominance-blue), and Cr (chrominance-red). Each channel is individually decoded using the grayscale_jpeg_decoder function, which reverses the JPEG compression for each channel. After decoding, the Y, Cb, and Cr channels are merged back into a single YCbCr image. Finally, the YCbCr image is converted back to the BGR color space for visualization, and the decoded BGR image is returned."
      ],
      "metadata": {
        "id": "2V7XCtcKjfsJ"
      }
    },
    {
      "cell_type": "code",
      "source": [
        "def color_jpeg_decoder(\n",
        "    blocks: tuple[\n",
        "        list[np.ndarray],\n",
        "        list[np.ndarray],\n",
        "        list[np.ndarray],\n",
        "    ],\n",
        "    img: np.ndarray,\n",
        "    block_size: int,\n",
        ") -> np.ndarray:\n",
        "    \"\"\"\n",
        "    Decodes a JPEG encoded color image in YCbCr color space.\n",
        "    Returns a 3D array containing the compressed image.\n",
        "    \"\"\"\n",
        "\n",
        "    # Convert the image to YCbCr color space for decoding\n",
        "    ycbcr_image = cv.cvtColor(img, cv.COLOR_BGR2YCrCb)  # Convert the input BGR image to YCbCr color space\n",
        "\n",
        "    # Split the YCbCr image into separate Y, Cb, and Cr channels\n",
        "    y_channel, cb_channel, cr_channel = cv.split(ycbcr_image)  # Split into Y, Cb, and Cr channels\n",
        "\n",
        "    # Decode each channel using the grayscale_jpeg_decoder function\n",
        "    # Each channel is decoded separately by applying the inverse process of JPEG compression\n",
        "    y_channel = grayscale_jpeg_decoder(blocks[0], y_channel, block_size, quantization_matrix_Y)  # Decode Y channel\n",
        "    cb_channel = grayscale_jpeg_decoder(blocks[1], cb_channel, block_size, quantization_matrix_CrCb)  # Decode Cb channel\n",
        "    cr_channel = grayscale_jpeg_decoder(blocks[2], cr_channel, block_size, quantization_matrix_CrCb)  # Decode Cr channel\n",
        "\n",
        "    # Merge the decoded Y, Cb, and Cr channels back into a single YCbCr image\n",
        "    ycbcr_decoded = cv.merge((y_channel, cb_channel, cr_channel))  # Merge the decoded channels into YCbCr image\n",
        "\n",
        "    # Convert the YCbCr image back to BGR color space for display\n",
        "    bgr_decoded = cv.cvtColor(ycbcr_decoded, cv.COLOR_YCrCb2RGB)  # Convert YCbCr to BGR for standard display\n",
        "\n",
        "    return bgr_decoded"
      ],
      "metadata": {
        "id": "5ggSPNtleQVu"
      },
      "execution_count": 29,
      "outputs": []
    },
    {
      "cell_type": "markdown",
      "source": [
        "##JPEG Encoder, Decoder"
      ],
      "metadata": {
        "id": "uVFCWLSsfaFg"
      }
    },
    {
      "cell_type": "markdown",
      "source": [
        "###JPEG Encoder"
      ],
      "metadata": {
        "id": "KfXu7Rq2eTfi"
      }
    },
    {
      "cell_type": "markdown",
      "source": [
        "The jpeg_encoder function handles JPEG compression for both color and grayscale images. It takes the image file path, block size, the number of coefficients to retain, and a flag indicating whether the image is in color. Depending on the color flag, the function either loads a color image or a grayscale image using OpenCV’s imread function. If the image is color, the function applies the color_jpeg_encoder, which processes the image in the YCbCr color space and returns the JPEG-encoded data. If the image is grayscale, it applies the grayscale_jpeg_encoder to compress the image and return the encoded data. The function returns a list for grayscale images or a tuple for color images containing the JPEG encoded data for each channel."
      ],
      "metadata": {
        "id": "zAFxZFvsj3Er"
      }
    },
    {
      "cell_type": "code",
      "source": [
        "def jpeg_encoder(\n",
        "    img_path: str,\n",
        "    block_size: int,\n",
        "    num_coefficients: int,\n",
        "    color: bool,\n",
        ") -> (\n",
        "    list[np.ndarray]\n",
        "    | tuple[\n",
        "        list[np.ndarray],\n",
        "        list[np.ndarray],\n",
        "        list[np.ndarray],\n",
        "    ]\n",
        "):\n",
        "    \"\"\"\n",
        "    Encodes an image using JPEG compression.\n",
        "    Returns the JPEG encoded array.\n",
        "    \"\"\"\n",
        "\n",
        "    if color:  # Check if the image is color or grayscale\n",
        "        # Load the color image from the specified path\n",
        "        img = cv.imread(img_path, cv.IMREAD_COLOR)  # Read the image as a color (BGR) image\n",
        "\n",
        "        # Apply color JPEG encoding by passing the image to the color JPEG encoder\n",
        "        return color_jpeg_encoder(img, block_size, num_coefficients)  # Return the JPEG encoded color image\n",
        "\n",
        "    else:\n",
        "        # Load the grayscale image from the specified path\n",
        "        img = cv.imread(img_path, cv.IMREAD_GRAYSCALE)  # Read the image as a grayscale image\n",
        "\n",
        "        # Apply grayscale JPEG encoding by passing the image to the grayscale JPEG encoder\n",
        "        return grayscale_jpeg_encoder(img, block_size, num_coefficients, quantization_matrix)  # Return the JPEG encoded grayscale image"
      ],
      "metadata": {
        "id": "wi8ErZNWeYMk"
      },
      "execution_count": 30,
      "outputs": []
    },
    {
      "cell_type": "markdown",
      "source": [
        "###JPEG Decoder"
      ],
      "metadata": {
        "id": "YWLTBkzWeZCe"
      }
    },
    {
      "cell_type": "markdown",
      "source": [
        "The jpeg_decoder function decodes a JPEG compressed image from its encoded array, depending on whether it is a color or grayscale image. It takes the encoded blocks, the image path, block size, and a flag (color) that determines if the image is in color or grayscale.\n",
        "\n",
        "1. If color is True, the function loads the color image using OpenCV and applies the color_jpeg_decoder to decode the JPEG image, returning a 3D array of the decoded color image.\n",
        "2. If color is False, the function loads the grayscale image and applies the grayscale_jpeg_decoder, returning a 2D array of the decoded grayscale image.\n",
        "\n",
        "This function returns either a 2D or 3D array representing the decompressed image based on the image type."
      ],
      "metadata": {
        "id": "T4eWcES3j83K"
      }
    },
    {
      "cell_type": "code",
      "source": [
        "def jpeg_decoder(\n",
        "    blocks: list[np.ndarray]\n",
        "    | tuple[\n",
        "        list[np.ndarray],\n",
        "        list[np.ndarray],\n",
        "        list[np.ndarray],\n",
        "    ],\n",
        "    img_path: str,\n",
        "    block_size: int,\n",
        "    color: bool,\n",
        ") -> np.ndarray:\n",
        "    \"\"\"\n",
        "    Decodes an image using JPEG compression from its JPEG encoded array.\n",
        "    Returns a 2D or 3D array containing the compressed image.\n",
        "    \"\"\"\n",
        "\n",
        "    if color:  # Check if the image is color or grayscale\n",
        "        # Load the color image from the specified path\n",
        "        img = cv.imread(img_path, cv.IMREAD_COLOR)  # Read the image as a color (BGR) image\n",
        "\n",
        "        # Apply color JPEG decoding using the provided blocks and return the decoded image\n",
        "        return color_jpeg_decoder(blocks, img, block_size)  # Decode the color JPEG image\n",
        "\n",
        "    else:\n",
        "        # Load the grayscale image from the specified path\n",
        "        img = cv.imread(img_path, cv.IMREAD_GRAYSCALE)  # Read the image as a grayscale image\n",
        "\n",
        "        # Apply grayscale JPEG decoding using the provided blocks and return the decoded image\n",
        "        return grayscale_jpeg_decoder(blocks, img, block_size, quantization_matrix)  # Decode the grayscale JPEG image"
      ],
      "metadata": {
        "id": "0GpiKcj6eavD"
      },
      "execution_count": 31,
      "outputs": []
    },
    {
      "cell_type": "markdown",
      "source": [
        "##Analyze image"
      ],
      "metadata": {
        "id": "zLRrRKU9ed_r"
      }
    },
    {
      "cell_type": "markdown",
      "source": [
        "The analyze_image function performs JPEG compression on an image, analyzes its quality, and returns multiple metrics for comparison. It follows these steps:\n",
        "\n",
        "1. **Reads the image**: The image is read from the specified path based on whether it’s in color or grayscale.\n",
        "2. **JPEG encoding**: The image is compressed using JPEG encoding, and the result is stored in encoded_img.\n",
        "3. **JPEG decoding**: The encoded image is then decoded back to get the compressed version.\n",
        "4. **PSNR Calculation**: The Peak Signal-to-Noise Ratio (PSNR) is computed to evaluate the quality of the compressed image.\n",
        "5. **Compression Ratio Calculation**: The compression ratio is calculated as the ratio of the original image size to the encoded image size.\n",
        "6. **Returns multiple outputs**:\n",
        "  * The original image\n",
        "  * The compressed image\n",
        "  * The PSNR value (indicating image quality loss)\n",
        "  * The compression ratio\n",
        "  * The encoded image (for inspection or further processing)\n",
        "  * A flag (color) indicating whether the image is in color or grayscale.\n",
        "\n",
        "This function helps in comparing the quality and efficiency of the JPEG compression algorithm."
      ],
      "metadata": {
        "id": "AV_zvq6lkZZx"
      }
    },
    {
      "cell_type": "code",
      "source": [
        "def analyze_image(\n",
        "    img_path: str, block_size: int, num_coefficients: int, color: bool\n",
        ") -> tuple[\n",
        "    np.ndarray,\n",
        "    np.ndarray,\n",
        "    float,\n",
        "    float,\n",
        "    list[np.ndarray]\n",
        "    | tuple[\n",
        "        list[np.ndarray],\n",
        "        list[np.ndarray],\n",
        "        list[np.ndarray],\n",
        "    ],\n",
        "    bool,\n",
        "]:\n",
        "    \"\"\"\n",
        "    Analyzes the input image by performing JPEG compression,\n",
        "    Returns the original and compressed images, and the PSNR and compression ratio.\n",
        "    This can be used to compare the quality of the compressed image.\n",
        "    \"\"\"\n",
        "\n",
        "    # Read the image based on the color flag\n",
        "    img: np.ndarray = None  # Initialize the image variable\n",
        "    if color:  # If the image is in color\n",
        "        img = cv.imread(img_path, cv.IMREAD_COLOR)  # Read the color image\n",
        "    else:  # If the image is grayscale\n",
        "        img = cv.imread(img_path, cv.IMREAD_GRAYSCALE)  # Read the grayscale image\n",
        "\n",
        "    # Encode the image using JPEG compression\n",
        "    encoded_img = jpeg_encoder(img_path, block_size, num_coefficients, color)  # Perform JPEG encoding\n",
        "\n",
        "    # Decode the image using JPEG compression\n",
        "    compressed_img = jpeg_decoder(encoded_img, img_path, block_size, color)  # Perform JPEG decoding\n",
        "\n",
        "    # Calculate the Peak Signal-to-Noise Ratio (PSNR) between the original and compressed images\n",
        "    psnr = cv.PSNR(img, compressed_img)  # PSNR is a metric to measure image quality loss\n",
        "\n",
        "    # Calculate the compression ratio\n",
        "    n2 = total_number_of_elements(encoded_img, color)  # Get the total number of elements in the encoded image\n",
        "    if n2 == 0:  # If the total number of elements is 0, avoid division by zero\n",
        "        compression_ratio = 0  # Set compression ratio to 0\n",
        "    else:\n",
        "        compression_ratio = img.size / total_number_of_elements(encoded_img, color)  # Compute compression ratio\n",
        "\n",
        "    # Return a tuple containing:\n",
        "    # - the original image,\n",
        "    # - the compressed image,\n",
        "    # - PSNR value,\n",
        "    # - compression ratio,\n",
        "    # - the encoded image (for possible saving or inspection),\n",
        "    # - a flag indicating whether the image is color or grayscale\n",
        "    return (img, compressed_img, psnr, compression_ratio, encoded_img, color)"
      ],
      "metadata": {
        "id": "MzgA0To8ejY_"
      },
      "execution_count": 32,
      "outputs": []
    },
    {
      "cell_type": "markdown",
      "source": [
        "##Save Compressed Image"
      ],
      "metadata": {
        "id": "g03kSDYNen4d"
      }
    },
    {
      "cell_type": "code",
      "source": [
        "def save_compressed_image(\n",
        "    compressed_img: np.ndarray,\n",
        "    compression_ratio: float,\n",
        ") -> None:\n",
        "    # Generate the filename for the compressed image, using the compression ratio\n",
        "    compressed_img_filename = f\"compressed_{compression_ratio:.2f}.jpeg\"\n",
        "\n",
        "    # Display the compressed image using matplotlib\n",
        "    plt.imshow(compressed_img, cmap=\"gray\")  # Assuming grayscale image, use appropriate colormap if necessary\n",
        "    plt.title(f\"Compressed Image - Compression Ratio = {compression_ratio:.2f}\")  # Set the title with compression ratio\n",
        "    plt.axis(\"off\")  # Turn off axis labels to focus on the image itself\n",
        "    plt.savefig(compressed_img_filename)  # Save the image as a .jpeg file with the computed filename\n",
        "    plt.show()  # Show the image in the plot"
      ],
      "metadata": {
        "id": "YAHYO6Zzeq9p"
      },
      "execution_count": 33,
      "outputs": []
    },
    {
      "cell_type": "markdown",
      "source": [
        "##Plot"
      ],
      "metadata": {
        "id": "ZeuBvQtlfNDY"
      }
    },
    {
      "cell_type": "markdown",
      "source": [
        "###Plot Image"
      ],
      "metadata": {
        "id": "ANRAD0fketiL"
      }
    },
    {
      "cell_type": "code",
      "source": [
        "def plot_images(\n",
        "    img: np.ndarray,\n",
        "    compressed_img: np.ndarray,\n",
        "    psnr: float,\n",
        "    compression_ratio: float,\n",
        "    encoded_img: list[np.ndarray]\n",
        "    | tuple[\n",
        "        list[np.ndarray],\n",
        "        list[np.ndarray],\n",
        "        list[np.ndarray],\n",
        "    ],\n",
        "    color: bool,\n",
        ") -> None:\n",
        "    # Create a subplot with 1 row and 2 columns for displaying the images\n",
        "    fig, axs = plt.subplots(1, 2, figsize=(10, 5))\n",
        "\n",
        "    # Set the title of the whole figure to display the compression ratio\n",
        "    fig.suptitle(\n",
        "        \"Compression Ratio = {:.2f}\".format(compression_ratio)\n",
        "    )\n",
        "    print(f\"compression : {compression_ratio}\")  # Print the compression ratio for debugging\n",
        "\n",
        "    # Generate a filename for saving the compressed image based on the compression ratio\n",
        "    compressed_img_filename = f\"compressed_{compression_ratio:.2f}.jpeg\"\n",
        "\n",
        "    # Open a text file to write the encoded image data\n",
        "    with open(\"encoded_image.txt\", \"w\") as f:\n",
        "        if color:\n",
        "            # If the image is in color, convert from BGR to RGB before displaying\n",
        "            axs[0].imshow(cv.cvtColor(img, cv.COLOR_BGR2RGB))  # Display the original image\n",
        "            axs[1].imshow(cv.cvtColor(compressed_img, cv.COLOR_BGR2RGB))  # Display the compressed image\n",
        "\n",
        "            # Write the encoded image data to the text file\n",
        "            for row in zip(*encoded_img):\n",
        "                for element in row:\n",
        "                    f.write(str(element) + \" \")\n",
        "                f.write(\"\\n\")\n",
        "        else:\n",
        "            # If the image is grayscale, display with a gray colormap\n",
        "            axs[0].imshow(img, cmap=\"gray\")  # Display the original grayscale image\n",
        "            axs[1].imshow(compressed_img, cmap=\"gray\")  # Display the compressed grayscale image\n",
        "\n",
        "            # Write the encoded image data to the text file\n",
        "            for row in encoded_img:\n",
        "                for element in row:\n",
        "                    f.write(str(element) + \" \")\n",
        "                f.write(\"\\n\")\n",
        "\n",
        "    # Uncomment the line below to save the compressed image (currently disabled)\n",
        "    # save_compressed_image(compressed_img, compression_ratio)\n",
        "\n",
        "    # Set titles for each subplot (original and compressed images)\n",
        "    axs[0].set_title(\"Original Image\")\n",
        "    axs[1].set_title(\"Compressed Image\")\n",
        "\n",
        "    # Display the images and the compression results\n",
        "    plt.show()"
      ],
      "metadata": {
        "id": "_VLxqch_e3s-"
      },
      "execution_count": 34,
      "outputs": []
    },
    {
      "cell_type": "markdown",
      "source": [
        "###Plot Graph"
      ],
      "metadata": {
        "id": "vpc07k22e7mw"
      }
    },
    {
      "cell_type": "code",
      "source": [
        "def plot_graph(\n",
        "    img_dir_path: str,  # Path to the directory containing image files\n",
        "    color: bool,  # Boolean indicating if the images are in color\n",
        "):\n",
        "    psnr_list = []  # List to store the average PSNR values for different coefficients\n",
        "    compression_ratio_list = []  # List to store the average compression ratios for different coefficients\n",
        "\n",
        "    # Loop through different numbers of coefficients to analyze their effect on compression\n",
        "    for num_coefficients in [1, 3, 6, 10, 15, 28]:\n",
        "        psnr_values = []  # Temporary list to store PSNR values for each image\n",
        "        compression_ratio_values = []  # Temporary list to store compression ratios for each image\n",
        "\n",
        "        # Loop through all images in the specified directory\n",
        "        for img_file in os.listdir(img_dir_path):\n",
        "            img_path = os.path.join(img_dir_path, img_file)  # Get full path of the image file\n",
        "\n",
        "            # Analyze the image by performing JPEG compression and retrieving relevant data\n",
        "            _, _, psnr, compression_ratio, _, _ = analyze_image(\n",
        "                img_path, 8, num_coefficients, color\n",
        "            )\n",
        "\n",
        "            # Append the PSNR and compression ratio for this image to their respective lists\n",
        "            psnr_values.append(psnr)\n",
        "            compression_ratio_values.append(compression_ratio)\n",
        "\n",
        "        # Compute the average PSNR and compression ratio across all images for the current coefficient count\n",
        "        psnr_list.append(np.mean(psnr_values))\n",
        "        compression_ratio_list.append(np.mean(compression_ratio_values))\n",
        "\n",
        "    # Plot the average PSNR vs Compression Ratio on a scatter plot\n",
        "    plt.plot(compression_ratio_list, psnr_list, \"o\")\n",
        "\n",
        "    # Label the x and y axes\n",
        "    plt.xlabel(\"Compression Ratio\")\n",
        "    plt.ylabel(\"PSNR\")\n",
        "\n",
        "    # Set the title of the graph\n",
        "    plt.title(\"PSNR vs Compression Ratio\")\n",
        "\n",
        "    # Display the plot\n",
        "    plt.show()"
      ],
      "metadata": {
        "id": "BPHUWJUpe-Dv"
      },
      "execution_count": 35,
      "outputs": []
    },
    {
      "cell_type": "markdown",
      "source": [
        "##Main Function"
      ],
      "metadata": {
        "id": "6A6kZe8PfCCt"
      }
    },
    {
      "cell_type": "code",
      "source": [
        "if __name__ == \"__main__\":  # Check if this script is being run directly (not imported as a module)\n",
        "    \"\"\"\n",
        "    Replace the image path with the path to your image\n",
        "    plot_images function plots the original and compressed images\n",
        "    Also, it writes the encoded images to a text file encoded_image.txt\n",
        "    \"\"\"\n",
        "    # plot_images(*analyze_image(img_path=\"path/to/your/image\", block_size=8, num_coefficients=10, color=True))\n",
        "\n",
        "    \"\"\"\n",
        "    Replaces the images folder with the path to your images folder\n",
        "    plot_graph function plots the PSNR vs Compression Ratio graph\n",
        "    for all the images in the images folder for different values of num_coefficients\n",
        "    \"\"\"\n",
        "    # plot_graph(img_dir_path=\"path/to/your/image/folder\", color=False)\n",
        "\n",
        "    # Prompt user if they want to analyze a single image\n",
        "    if input(\"Analyze a single image (y/n): \") == \"y\":\n",
        "        # If user chooses to analyze a single image\n",
        "        img_path = input(\"Enter the path to the image: \")  # Ask for the image path\n",
        "        block_size = int(input(\"Enter the block size (even): \"))  # Ask for the block size (should be even)\n",
        "        num_coefficients = int(input(\"Enter the number of coefficients passed: \"))  # Ask for number of coefficients\n",
        "        color = input(\"Is the image color (y/n): \") == \"y\"  # Ask if the image is color (convert to boolean)\n",
        "\n",
        "        # Analyze the image and plot the original and compressed images\n",
        "        plot_images(*analyze_image(img_path, block_size, num_coefficients, color))\n",
        "\n",
        "    # Prompt user if they want to analyze all images in a folder\n",
        "    elif input(\"Analyzes all images in a folder (y/n): \") == \"y\":\n",
        "        # If user chooses to analyze all images in a folder\n",
        "        img_dir_path = input(\"Enter the path to the images folder: \")  # Ask for the path to the folder containing images\n",
        "        color = input(\"Are the images color (y/n): \") == \"y\"  # Ask if the images are color (convert to boolean)\n",
        "\n",
        "        # Generate and display the PSNR vs Compression Ratio graph for all images in the folder\n",
        "        plot_graph(img_dir_path, color)  # Call plot_graph to analyze all images in the folder"
      ],
      "metadata": {
        "id": "W5Imx86vfF2v"
      },
      "execution_count": null,
      "outputs": []
    }
  ]
}